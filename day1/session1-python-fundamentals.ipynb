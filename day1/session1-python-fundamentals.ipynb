{
 "cells": [
  {
   "cell_type": "markdown",
   "id": "4208e190",
   "metadata": {},
   "source": [
    "Python output"
   ]
  },
  {
   "cell_type": "code",
   "execution_count": 1,
   "id": "c5b8c0d9",
   "metadata": {},
   "outputs": [
    {
     "name": "stdout",
     "output_type": "stream",
     "text": [
      "hello roy from python\n"
     ]
    }
   ],
   "source": [
    "# Python is a case sensitive language\n",
    "print(\"hello roy from python\")"
   ]
  },
  {
   "cell_type": "code",
   "execution_count": 2,
   "id": "4b4cc4b0",
   "metadata": {},
   "outputs": [
    {
     "name": "stdout",
     "output_type": "stream",
     "text": [
      "7\n"
     ]
    }
   ],
   "source": [
    "print(7)"
   ]
  },
  {
   "cell_type": "code",
   "execution_count": 3,
   "id": "e9f99c9c",
   "metadata": {},
   "outputs": [
    {
     "name": "stdout",
     "output_type": "stream",
     "text": [
      "True\n"
     ]
    }
   ],
   "source": [
    "print(True)"
   ]
  },
  {
   "cell_type": "code",
   "execution_count": 4,
   "id": "9e5e51ba",
   "metadata": {},
   "outputs": [
    {
     "name": "stdout",
     "output_type": "stream",
     "text": [
      "Hello 1 4.5 True\n"
     ]
    }
   ],
   "source": [
    "print('Hello',1,4.5,True)"
   ]
  },
  {
   "cell_type": "markdown",
   "id": "744fdb47",
   "metadata": {},
   "source": [
    "# 2. Python data type\n",
    "\n",
    "here intiger datatype limit= 1e308\n",
    "\n",
    "1) Integer\n",
    "2) boolean\n",
    "3) List\n",
    "4) String\n",
    "5) Tuple\n",
    "6) distionary\n",
    "7) Sets\n",
    "8) type"
   ]
  },
  {
   "cell_type": "code",
   "execution_count": 5,
   "id": "93367266",
   "metadata": {},
   "outputs": [
    {
     "name": "stdout",
     "output_type": "stream",
     "text": [
      "8\n",
      "inf\n"
     ]
    }
   ],
   "source": [
    "# Integer\n",
    "print(8)\n",
    "# 1*10^308\n",
    "print(1e309)"
   ]
  },
  {
   "cell_type": "code",
   "execution_count": 7,
   "id": "6cfb1cc7",
   "metadata": {},
   "outputs": [
    {
     "name": "stdout",
     "output_type": "stream",
     "text": [
      "True\n",
      "False\n"
     ]
    }
   ],
   "source": [
    "# boolean\n",
    "print(True)\n",
    "print(False)"
   ]
  },
  {
   "cell_type": "code",
   "execution_count": 8,
   "id": "6fed02af",
   "metadata": {},
   "outputs": [
    {
     "name": "stdout",
     "output_type": "stream",
     "text": [
      "Hello World\n"
     ]
    }
   ],
   "source": [
    "# Text/String\n",
    "print('Hello World')"
   ]
  },
  {
   "cell_type": "code",
   "execution_count": 9,
   "id": "b6056a9f",
   "metadata": {},
   "outputs": [
    {
     "name": "stdout",
     "output_type": "stream",
     "text": [
      "(5+6j)\n"
     ]
    }
   ],
   "source": [
    "# complex\n",
    "print(5+6j)"
   ]
  },
  {
   "cell_type": "code",
   "execution_count": 10,
   "id": "3868132a",
   "metadata": {},
   "outputs": [
    {
     "name": "stdout",
     "output_type": "stream",
     "text": [
      "[1, 2, 3, 4, 5]\n"
     ]
    }
   ],
   "source": [
    "# List-> C-> Array\n",
    "print([1,2,3,4,5])"
   ]
  },
  {
   "cell_type": "code",
   "execution_count": 12,
   "id": "da1fc9ac",
   "metadata": {},
   "outputs": [
    {
     "name": "stdout",
     "output_type": "stream",
     "text": [
      "(1, 2, 3, 4)\n"
     ]
    }
   ],
   "source": [
    "# Tuple always with () and its can not change\n",
    "print((1,2,3,4))"
   ]
  },
  {
   "cell_type": "code",
   "execution_count": 13,
   "id": "5b3db4b7",
   "metadata": {},
   "outputs": [
    {
     "name": "stdout",
     "output_type": "stream",
     "text": [
      "{1, 3, 4, 5}\n"
     ]
    }
   ],
   "source": [
    "#Sets always start with {} and its contain distinc values\n",
    "print({1,1,3,4,5})"
   ]
  },
  {
   "cell_type": "code",
   "execution_count": 14,
   "id": "db305a56",
   "metadata": {},
   "outputs": [
    {
     "name": "stdout",
     "output_type": "stream",
     "text": [
      "{'name': 'Roy', 'gender': 'male', 'age': 20}\n"
     ]
    }
   ],
   "source": [
    "# distionary always with {} with a key and its like json formate\n",
    "print({\"name\":\"Roy\", \"gender\":\"male\", \"age\":20})"
   ]
  },
  {
   "cell_type": "code",
   "execution_count": 16,
   "id": "ce224c4e",
   "metadata": {},
   "outputs": [
    {
     "name": "stdout",
     "output_type": "stream",
     "text": [
      "<class 'list'>\n",
      "<class 'tuple'>\n",
      "<class 'set'>\n"
     ]
    }
   ],
   "source": [
    "# type for check data type\n",
    "print(type([2,3,4]))\n",
    "print(type((2,3,4)))\n",
    "print(type({2,3,4}))"
   ]
  },
  {
   "cell_type": "markdown",
   "id": "96ac553a",
   "metadata": {},
   "source": [
    " # 3. Variables\n",
    "1) Static Vs Dynamic Typing\n",
    "2) Static Vs Dynamic Binding\n",
    "3) stylish declaration techniques"
   ]
  },
  {
   "cell_type": "code",
   "execution_count": 17,
   "id": "b01280d2",
   "metadata": {},
   "outputs": [
    {
     "name": "stdout",
     "output_type": "stream",
     "text": [
      "Roy\n",
      "6\n"
     ]
    }
   ],
   "source": [
    "# for c/c++\n",
    "name = \"Roy\"\n",
    "print(name)\n",
    "a=2\n",
    "b=4\n",
    "print(a+b)\n",
    "\n"
   ]
  },
  {
   "cell_type": "code",
   "execution_count": 28,
   "id": "c2ab8ca3",
   "metadata": {},
   "outputs": [
    {
     "name": "stdout",
     "output_type": "stream",
     "text": [
      "5\n"
     ]
    }
   ],
   "source": [
    "# Dynamic Typing\n",
    "a = 5\n",
    "print(a)\n",
    "# Static Typing\n",
    "#not allow for python\n",
    "# int a = 5 "
   ]
  },
  {
   "cell_type": "code",
   "execution_count": 26,
   "id": "87983934",
   "metadata": {},
   "outputs": [
    {
     "name": "stdout",
     "output_type": "stream",
     "text": [
      "5\n",
      "roy\n"
     ]
    }
   ],
   "source": [
    "# Dynamic Binding\n",
    "a=5\n",
    "print(a)\n",
    "a=\"roy\"\n",
    "print(a)\n",
    "\n",
    "# static binding\n",
    "#not allow for python\n",
    "# int a =5 \n"
   ]
  },
  {
   "cell_type": "markdown",
   "id": "5ba1ea3b",
   "metadata": {},
   "source": [
    "# comments"
   ]
  },
  {
   "cell_type": "code",
   "execution_count": 29,
   "id": "5fdd61d0",
   "metadata": {},
   "outputs": [
    {
     "name": "stdout",
     "output_type": "stream",
     "text": [
      "10\n"
     ]
    }
   ],
   "source": [
    "# this is a comment\n",
    "# second line\n",
    "a = 4\n",
    "b = 6 # like this\n",
    "# second comment\n",
    "print(a+b)"
   ]
  },
  {
   "cell_type": "markdown",
   "id": "752e9ff1",
   "metadata": {},
   "source": [
    "# 4. Keywords & Identifiers"
   ]
  },
  {
   "cell_type": "code",
   "execution_count": 31,
   "id": "65e6e49f",
   "metadata": {},
   "outputs": [
    {
     "name": "stdout",
     "output_type": "stream",
     "text": [
      "Roy\n",
      "koushik\n"
     ]
    }
   ],
   "source": [
    "# Identifiers\n",
    "# You can't start with a digit\n",
    "name1 = 'Roy'\n",
    "print(name1)\n",
    "# You can use special chars -> _\n",
    "_ = 'koushik'\n",
    "print(_)\n",
    "# identiers can not be keyword"
   ]
  },
  {
   "cell_type": "markdown",
   "id": "85f4ea89",
   "metadata": {},
   "source": [
    "# 5. User Input"
   ]
  },
  {
   "cell_type": "code",
   "execution_count": 32,
   "id": "23f862dc",
   "metadata": {},
   "outputs": [
    {
     "name": "stdout",
     "output_type": "stream",
     "text": [
      "Enter Emailory@gamil.com\n"
     ]
    },
    {
     "data": {
      "text/plain": [
       "'ory@gamil.com'"
      ]
     },
     "execution_count": 32,
     "metadata": {},
     "output_type": "execute_result"
    }
   ],
   "source": [
    "# Static Vs Dynamic\n",
    "input('Enter Email')"
   ]
  },
  {
   "cell_type": "code",
   "execution_count": 35,
   "id": "f8343ca5",
   "metadata": {},
   "outputs": [
    {
     "name": "stdout",
     "output_type": "stream",
     "text": [
      "Enter first name: roy\n",
      "Enter last name: koushik\n",
      "roy koushik\n",
      "<class 'str'>\n"
     ]
    }
   ],
   "source": [
    "# take input from users and store them in a variable\n",
    "#print(type(fnum),type(snum))\n",
    "# add the 2 variables\n",
    "\n",
    "fname = input(\"Enter first name: \")\n",
    "lname = input(\"Enter last name: \")\n",
    "\n",
    "name= fname+' '+lname\n",
    "\n",
    "print(name)\n",
    "print(type(name))"
   ]
  },
  {
   "cell_type": "markdown",
   "id": "212279ee",
   "metadata": {},
   "source": [
    "# 6. Type Conversion"
   ]
  },
  {
   "cell_type": "code",
   "execution_count": 39,
   "id": "57b1d811",
   "metadata": {},
   "outputs": [
    {
     "name": "stdout",
     "output_type": "stream",
     "text": [
      "10.6\n",
      "<class 'int'> <class 'float'>\n"
     ]
    }
   ],
   "source": [
    "# Implicit Vs Explicit\n",
    "print(5+5.6)\n",
    "print(type(5),type(5.6))\n",
    "\n",
    "#print(4 + '4') #unsupported operand"
   ]
  },
  {
   "cell_type": "code",
   "execution_count": 41,
   "id": "1192ceaf",
   "metadata": {},
   "outputs": [
    {
     "data": {
      "text/plain": [
       "4.0"
      ]
     },
     "execution_count": 41,
     "metadata": {},
     "output_type": "execute_result"
    }
   ],
   "source": [
    "# Explicit means user define\n",
    "# str -> int\n",
    "#int(4+5j)\n",
    "\n",
    "# int to str\n",
    "str(5)\n",
    "\n",
    "# float\n",
    "float(4)"
   ]
  },
  {
   "cell_type": "markdown",
   "id": "494e5909",
   "metadata": {},
   "source": [
    "# 7. Literals\n",
    "variable values called literals"
   ]
  },
  {
   "cell_type": "code",
   "execution_count": 43,
   "id": "454975a0",
   "metadata": {},
   "outputs": [
    {
     "name": "stdout",
     "output_type": "stream",
     "text": [
      "10 100 200 300\n",
      "10.5 150.0 0.0015\n",
      "3.14j 3.14 0.0\n"
     ]
    }
   ],
   "source": [
    "a = 0b1010 #Binary Literals\n",
    "b = 100 #Decimal Literal \n",
    "c = 0o310 #Octal Literal\n",
    "d = 0x12c #Hexadecimal Literal\n",
    "\n",
    "#Float Literal\n",
    "float_1 = 10.5 \n",
    "float_2 = 1.5e2 # 1.5 * 10^2\n",
    "float_3 = 1.5e-3 # 1.5 * 10^-3\n",
    "\n",
    "#Complex Literal \n",
    "x = 3.14j\n",
    "\n",
    "print(a, b, c, d)\n",
    "print(float_1, float_2,float_3)\n",
    "print(x, x.imag, x.real)"
   ]
  },
  {
   "cell_type": "code",
   "execution_count": 44,
   "id": "fd6738c3",
   "metadata": {},
   "outputs": [
    {
     "name": "stdout",
     "output_type": "stream",
     "text": [
      "This is Python\n",
      "This is Python\n",
      "C\n",
      "This is a multiline string with more than one line code.\n",
      "😀😆🤣\n",
      "raw \\n string\n"
     ]
    }
   ],
   "source": [
    "string = 'This is Python'\n",
    "strings = \"This is Python\"\n",
    "char = \"C\"\n",
    "multiline_str = \"\"\"This is a multiline string with more than one line code.\"\"\"\n",
    "unicode = u\"\\U0001f600\\U0001F606\\U0001F923\"\n",
    "raw_str = r\"raw \\n string\"\n",
    "\n",
    "print(string)\n",
    "print(strings)\n",
    "print(char)\n",
    "print(multiline_str)\n",
    "print(unicode)\n",
    "print(raw_str)"
   ]
  },
  {
   "cell_type": "code",
   "execution_count": 45,
   "id": "6c700558",
   "metadata": {},
   "outputs": [
    {
     "name": "stdout",
     "output_type": "stream",
     "text": [
      "a: 5\n",
      "b: 10\n"
     ]
    }
   ],
   "source": [
    "a = True + 4\n",
    "b = False + 10\n",
    "\n",
    "print(\"a:\", a)\n",
    "print(\"b:\", b)"
   ]
  },
  {
   "cell_type": "code",
   "execution_count": 46,
   "id": "3fe45dcc",
   "metadata": {},
   "outputs": [
    {
     "name": "stdout",
     "output_type": "stream",
     "text": [
      "Program exe\n"
     ]
    }
   ],
   "source": [
    "k = None\n",
    "a = 5\n",
    "b = 6\n",
    "print('Program exe')"
   ]
  },
  {
   "cell_type": "markdown",
   "id": "933050c6",
   "metadata": {},
   "source": [
    "# 8. Operators"
   ]
  },
  {
   "cell_type": "code",
   "execution_count": 47,
   "id": "ba7a43ec",
   "metadata": {},
   "outputs": [],
   "source": [
    "# Arithmetic\n",
    "# Relational\n",
    "# Logical\n",
    "# Bitwise\n",
    "# Assignment\n",
    "# Membership"
   ]
  },
  {
   "cell_type": "code",
   "execution_count": null,
   "id": "378dc760",
   "metadata": {},
   "outputs": [],
   "source": []
  }
 ],
 "metadata": {
  "kernelspec": {
   "display_name": "Python 3 (ipykernel)",
   "language": "python",
   "name": "python3"
  },
  "language_info": {
   "codemirror_mode": {
    "name": "ipython",
    "version": 3
   },
   "file_extension": ".py",
   "mimetype": "text/x-python",
   "name": "python",
   "nbconvert_exporter": "python",
   "pygments_lexer": "ipython3",
   "version": "3.11.5"
  }
 },
 "nbformat": 4,
 "nbformat_minor": 5
}
