{
 "cells": [
  {
   "cell_type": "markdown",
   "id": "4a5362f8",
   "metadata": {},
   "source": [
    "Q1 :- Print the given strings as per stated format.\n",
    "\n",
    "Given strings:\n",
    "\"Data\" \"Science\" \"Mentorship\" \"Program\" \n",
    "\"By\" \"CampusX\"\n",
    "\n",
    "Output:\n",
    "Data-Science-Mentorship-Program-started-By-CampusX"
   ]
  },
  {
   "cell_type": "code",
   "execution_count": 1,
   "id": "ebc5e37e",
   "metadata": {},
   "outputs": [
    {
     "name": "stdout",
     "output_type": "stream",
     "text": [
      "Data Science Mentorship Program By CampusX\n"
     ]
    }
   ],
   "source": [
    "print( \"Data-\"+\"Science\"+\"Mentorship \" \"Program \"+\"By \"+\"CampusX\")"
   ]
  },
  {
   "cell_type": "code",
   "execution_count": null,
   "id": "6f6a6032",
   "metadata": {},
   "outputs": [],
   "source": []
  }
 ],
 "metadata": {
  "kernelspec": {
   "display_name": "Python 3 (ipykernel)",
   "language": "python",
   "name": "python3"
  },
  "language_info": {
   "codemirror_mode": {
    "name": "ipython",
    "version": 3
   },
   "file_extension": ".py",
   "mimetype": "text/x-python",
   "name": "python",
   "nbconvert_exporter": "python",
   "pygments_lexer": "ipython3",
   "version": "3.11.5"
  }
 },
 "nbformat": 4,
 "nbformat_minor": 5
}
